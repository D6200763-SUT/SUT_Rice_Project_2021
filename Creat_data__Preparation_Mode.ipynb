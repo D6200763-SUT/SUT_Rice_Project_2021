{
 "cells": [
  {
   "cell_type": "code",
   "execution_count": 1,
   "metadata": {},
   "outputs": [],
   "source": [
    "import os\n",
    "import datetime\n",
    "import time\n",
    "\n",
    "import ipywidgets as widgets\n",
    "from IPython.display import display\n",
    "\n",
    "import IPython\n",
    "import IPython.display\n",
    "# import seaborn as sns\n",
    "import matplotlib as mpl\n",
    "import matplotlib.pyplot as plt\n",
    "from IPython.display import clear_output\n",
    "\n",
    "mpl.rcParams['figure.figsize'] = (8, 6)\n",
    "mpl.rcParams['axes.grid'] = False\n",
    "\n",
    "from math import sqrt\n",
    "from numpy import concatenate\n",
    "import numpy as np\n",
    "import math\n",
    "\n",
    "import pandas as pd\n",
    "from pandas import DataFrame\n",
    "from pandas import concat\n",
    "\n",
    "from sklearn.preprocessing import MinMaxScaler\n",
    "from sklearn.preprocessing import LabelEncoder\n",
    "from sklearn.metrics import mean_squared_error\n",
    "\n",
    "# import tensorflow \n",
    "# import tensorflow as tf\n",
    "# from tensorflow import keras\n",
    "\n",
    "import platform\n",
    "# print(platform.python_version())\n",
    "# print(tf.version.VERSION)\n",
    "# print(np.__version__)\n",
    "\n"
   ]
  },
  {
   "cell_type": "code",
   "execution_count": 2,
   "metadata": {},
   "outputs": [
    {
     "name": "stdout",
     "output_type": "stream",
     "text": [
      "All low RiceCenter 34 station\n"
     ]
    }
   ],
   "source": [
    "# File name and Path\n",
    "cwd = os.getcwd()\n",
    "path_adress = \"/Import_Dataset/\"\n",
    "\n",
    "# ข้อมูล พิกัดสถานที่เเละรายชื้ออ้างอิงสถานที่ตรวจวัด\n",
    "file_name_st = 'Data_lat_long_Rice research Center'\n",
    "csv_file_st = cwd + path_adress + file_name_st + '.csv'\n",
    "\n",
    "df_st = pd.read_csv(csv_file_st)\n",
    "print(\"All low RiceCenter {} station\" .format(df_st.shape[0]))\n",
    "\n",
    "data_list_st_num = list(range(0, len(df_st)))\n",
    "data_list_st_name = []\n",
    "data_list_st_name = df_st['nameEng'].values.tolist()\n",
    "data_list_st_lat = df_st['Latitude'].values.tolist()\n",
    "data_list_st_long = df_st['Longitude'].values.tolist()"
   ]
  },
  {
   "cell_type": "code",
   "execution_count": 29,
   "metadata": {},
   "outputs": [],
   "source": [
    "def clicked(b):\n",
    "    output_df_train.clear_output()\n",
    "    output_df_train.clear_output()\n",
    "    with output_df_train:\n",
    "        display(creat_dataset(0,'2015','2017',0))\n",
    "        # print(\"Button clicked.\")\n",
    "        # # frames_train = creat_dataset(2,dropdown_year_train1.value,dropdown_year_train2.value,1)\n",
    "        # # del frames_train\n",
    "        # frames_train = creat_dataset(0,'2015','2016',0)\n",
    "        "
   ]
  },
  {
   "cell_type": "code",
   "execution_count": 4,
   "metadata": {},
   "outputs": [],
   "source": [
    "ALL = 'ALL'\n",
    "\n",
    "def unique_sorted_values_plus_ALL(array):\n",
    "    unique = array.unique().tolist()\n",
    "    unique.sort()\n",
    "    unique.insert(0, ALL)\n",
    "    return unique"
   ]
  },
  {
   "cell_type": "code",
   "execution_count": 5,
   "metadata": {},
   "outputs": [],
   "source": [
    "def dropdown_year_eventhandler(change):\n",
    "    output_df_st.clear_output()\n",
    "    with output_df_st:  \n",
    "        if (change.new == ALL):\n",
    "            display(df_st)\n",
    "        else:\n",
    "            display(df_st[df_st.nameEng == change.new])"
   ]
  },
  {
   "cell_type": "code",
   "execution_count": null,
   "metadata": {},
   "outputs": [],
   "source": []
  },
  {
   "cell_type": "code",
   "execution_count": 6,
   "metadata": {},
   "outputs": [],
   "source": [
    "def creat_avrdata(frames_sma,rolling_num):\n",
    "    \n",
    "    h_name = list(frames_sma)\n",
    "    frames_sma['mirid bug'] = frames_sma['mirid bug'].rolling(rolling_num, min_periods=1).sum()\n",
    "    frames_sma['bph'] = frames_sma['bph'].rolling(rolling_num, min_periods=1).sum()\n",
    "    for i in range(7,14):\n",
    "        frames_sma[h_name[i]] = frames_sma[h_name[i]].rolling(rolling_num, min_periods=1).mean()\n",
    "#        print(header_name[i])\n",
    "\n",
    "    #defining rate\n",
    "    our_rate = rolling_num\n",
    "    #apply the rate\n",
    "    constant_subset = frames_sma[::our_rate] \n",
    "        \n",
    "    frames = constant_subset\n",
    "    return frames\n"
   ]
  },
  {
   "cell_type": "code",
   "execution_count": 7,
   "metadata": {},
   "outputs": [],
   "source": [
    "def creat_dataset(st_BPH = 0, y_1='2015', y_2='2019', mode=1):\n",
    "    for i in range(len(data_list_st_num)):\n",
    "        st = i\n",
    "        file_name = df_st['nameEng'][data_list_st_num[st]]\n",
    "        name_input = file_name\n",
    "        name_locals = 'stN_' + file_name\n",
    "\n",
    "        # File name and Path\n",
    "        csv_file = cwd + path_adress + name_input + '.csv'\n",
    "        # index_col=0 , index_col=None\n",
    "        dataset = pd.read_csv(csv_file, header=0,\n",
    "                              index_col=0, encoding=\"TIS-620\")\n",
    "        # dataset = dataset.drop(['address'], axis=1)\n",
    "        dataset = dataset.drop(['year'], axis=1)\n",
    "        dataset = dataset.drop(['dew'], axis=1)\n",
    "        # dataset = dataset.drop(['latitude'], axis=1)\n",
    "        # dataset = dataset.drop(['longitude'], axis=1)\n",
    "        # dataset.columns\n",
    "        locals()[name_locals] =dataset\n",
    "        # locals()[name_locals] = creat_avrdata(dataset,1)\n",
    "        # print(f'Dataframe name_station: {st+1 , name_input}')\n",
    "        print('wait......')\n",
    "        del dataset\n",
    "        clear_output(wait=True)\n",
    "\n",
    "    date_start = y_1 + '-01' + '-01'\n",
    "    date_stop = y_2 + '-12' + '-31'\n",
    "\n",
    "#---------------------------------------------------------------------------------------------------------------------------------------------------#\n",
    "    if mode == 0:\n",
    "        file_name = df_st['nameEng'][data_list_st_num[st_BPH]]\n",
    "        # file_name = st_BPH\n",
    "        locals_input = 'stN_' + file_name\n",
    "        print(locals_input)\n",
    "        dataset_st = locals()[locals_input].loc[date_start:date_stop]\n",
    "        frames_st = dataset_st\n",
    "    else:\n",
    "        m = 0\n",
    "        for j in range(len(data_list_st_num)):\n",
    "            # for j in range(df_st.shape[0]):\n",
    "            # file_name = df_st['nameEng'][j]\n",
    "            file_name = df_st['nameEng'][data_list_st_num[j]]\n",
    "            locals_input = 'stN_' + file_name\n",
    "            print(locals_input)\n",
    "            dataset_st = locals()[locals_input].loc[date_start:date_stop]\n",
    "            clear_output(wait=True)\n",
    "            if m == 0:\n",
    "                frames_st = dataset_st\n",
    "                m = m+1\n",
    "                print(m)\n",
    "            else:\n",
    "                frames_st = [frames_st, dataset_st]\n",
    "                frames_st = pd.concat(frames_st)\n",
    "#---------------------------------------------------------------------------------------------------------------------------------------------------#\n",
    "    # dataset\n",
    "    \n",
    "    frames = frames_st\n",
    "    return frames\n"
   ]
  },
  {
   "cell_type": "code",
   "execution_count": 28,
   "metadata": {},
   "outputs": [
    {
     "data": {
      "application/vnd.jupyter.widget-view+json": {
       "model_id": "3f645654d22f4c23b3b3167c9159998b",
       "version_major": 2,
       "version_minor": 0
      },
      "text/plain": [
       "VBox(children=(HBox(children=(Dropdown(description='station :', options=('ALL', 'Chachoengsao Rice research Ce…"
      ]
     },
     "metadata": {},
     "output_type": "display_data"
    }
   ],
   "source": [
    "\n",
    "\n",
    "output_df_st = widgets.Output()\n",
    "\n",
    "dropdown_name_st = widgets.Dropdown(options = unique_sorted_values_plus_ALL(df_st.nameEng),description='station :')\n",
    "dropdown_sampling_data = widgets.Dropdown(options = ['All DAY','3-DAY','7-DAY'],valure = 'All-DAY',description='Sampling :')\n",
    "dropdown_year_train1 = widgets.Dropdown(options = ['2015','2016','2017','2018','2019','2020'],description='Year-train :')\n",
    "dropdown_year_train2 = widgets.Dropdown(options = ['2015','2016','2017','2018','2019','2020'],value = '2017')\n",
    "dropdown_year_val1 = widgets.Dropdown(options = ['2015','2016','2017','2018','2019','2020'],value = '2018',description='Year-val :')\n",
    "dropdown_year_val2 = widgets.Dropdown(options = ['2015','2016','2017','2018','2019','2020'],value = '2018')\n",
    "dropdown_year_test1 = widgets.Dropdown(options = ['2015','2016','2017','2018','2019','2020'],value = '2019',description='Year-test :')\n",
    "dropdown_year_test2 = widgets.Dropdown(options = ['2015','2016','2017','2018','2019','2020'],value = '2019')\n",
    "\n",
    "button_download = widgets.Button(description='load data',disabled=False,\n",
    "                                button_style='success', # 'success', 'info', 'warning', 'danger' or ''\n",
    "                                tooltip='Click me',\n",
    "                                 icon='check' # (FontAwesome names without the `fa-` prefix) \n",
    "                                )\n",
    "button_download.on_click(clicked)\n",
    "\n",
    "output_df_train = widgets.Output()\n",
    "\n",
    "dropdown_name_st.observe(dropdown_year_eventhandler, names='value')\n",
    "\n",
    "\n",
    "\n",
    "\n",
    "# display(dropdown_name_st,dropdown_sampling_data,dropdown_year_train1,dropdown_year_train2,dropdown_year_val1,\n",
    "#         dropdown_year_val2,dropdown_year_test, button_download,output_download)\n",
    "\n",
    "input_widgets_row1 = widgets.HBox([dropdown_name_st, dropdown_year_train1, dropdown_year_train2,dropdown_year_val1,dropdown_year_val2,dropdown_year_test1,dropdown_year_test2])\n",
    "input_widgets_row2 = widgets.HBox([dropdown_sampling_data])\n",
    "\n",
    "tab = widgets.Tab([output_df_st,output_df_train])\n",
    "tab.set_title(0, 'Dataset station')\n",
    "tab.set_title(1, 'Dataset train')\n",
    "\n",
    "dashboard = widgets.VBox([input_widgets_row1,input_widgets_row2,button_download,tab])\n",
    "display(dashboard)"
   ]
  },
  {
   "cell_type": "code",
   "execution_count": null,
   "metadata": {},
   "outputs": [],
   "source": [
    "st = 1\n",
    "# st_num = 1\n",
    "file_name = df_st['nameEng'][data_list_st_num[st]]\n",
    "name_input = file_name\n",
    "name_locals = 'stN_' + file_name\n",
    "print(name_locals)\n",
    "\n",
    "# File name and Path\n",
    "csv_file = cwd + path_adress + name_input + '.csv'\n",
    "# index_col=0 , index_col=None\n",
    "dataset = pd.read_csv(csv_file, header=0,\n",
    "                      index_col=0, encoding=\"TIS-620\")\n",
    "\n",
    "header_name = list(dataset)\n",
    "# print(header_name)\n",
    "\n",
    "data_list_header_num = list(range(0, len(header_name)))\n",
    "# print(data_list_header_num)\n",
    "\n",
    "data_list_drop = [0,4,5]\n",
    "\n",
    "for i in range(len(data_list_drop)):\n",
    "        dataset = dataset.drop([header_name[data_list_drop[i]]], axis=1)\n",
    "\n",
    "dataset.head()\n"
   ]
  },
  {
   "cell_type": "code",
   "execution_count": null,
   "metadata": {},
   "outputs": [],
   "source": [
    "# dataset\n",
    "frames_train = creat_avrdata(dataset,7)\n",
    "frames_train.head()\n",
    "# len(frames_train)"
   ]
  },
  {
   "cell_type": "code",
   "execution_count": null,
   "metadata": {},
   "outputs": [],
   "source": [
    "# frames_train.head()\n",
    "dataset.head()"
   ]
  },
  {
   "cell_type": "code",
   "execution_count": null,
   "metadata": {},
   "outputs": [],
   "source": [
    "# df_temperature = dataset['temp']\n",
    "df_temperature = pd.DataFrame(dataset['bph'].loc['2015-01-01':'2015-01-31']) \n",
    "\n",
    "# df_temperature = \n",
    "# the simple moving average over a period of 10 years\n",
    "# df_temperature['7D-SMA'] = df_temperature.bph.rolling(7, min_periods=1).mean()\n",
    "# df_temperature['3D-SMA'] = df_temperature.bph.rolling(3, min_periods=1).mean()\n",
    "df_temperature['7D-SMA'] = df_temperature.bph.rolling(7, min_periods=1).sum()\n",
    "df_temperature['3D-SMA'] = df_temperature.bph.rolling(3, min_periods=1).sum()\n",
    "# df_temperature"
   ]
  },
  {
   "cell_type": "code",
   "execution_count": null,
   "metadata": {},
   "outputs": [],
   "source": [
    "# colors for the line plot\n",
    "colors = ['green', 'red', 'purple']\n",
    "\n",
    "# line plot - the yearly average air temperature in Barcelona\n",
    "df_temperature.plot(color=colors, linewidth=3, figsize=(12,6))\n",
    "\n",
    "# modify ticks size\n",
    "plt.xticks(fontsize=14)\n",
    "plt.yticks(fontsize=14)\n",
    "plt.legend(labels =['Data Input', '10-years SMA', '20-years SMA'], fontsize=14)\n",
    "\n",
    "# title and labels\n",
    "plt.title('Data average ', fontsize=18)\n",
    "plt.xlabel('date-time', fontsize=16)\n",
    "plt.ylabel('Temperature [°C]', fontsize=16)"
   ]
  },
  {
   "cell_type": "code",
   "execution_count": null,
   "metadata": {},
   "outputs": [],
   "source": [
    "#defining rate\n",
    "our_rate = 6 \n",
    "#apply the rate\n",
    "constant_subset = df_temperature[::our_rate] \n",
    "#data\n",
    "constant_subset"
   ]
  },
  {
   "cell_type": "code",
   "execution_count": null,
   "metadata": {},
   "outputs": [],
   "source": [
    "# frames_train\n",
    "our_rate = 6 \n",
    "\n",
    "#conditonal sampling\n",
    "our_condition = df['latitude'] == 15.198\n",
    "\n",
    "#Retirive the index\n",
    "index = our_condition[our_condition == True].index\n",
    " \n",
    "#sample based on condition \n",
    "conditional_subset = df[our_condition][::our_rate] \n",
    " \n",
    "#output \n",
    "df2 = conditional_subset.set_index()\n",
    "df2"
   ]
  },
  {
   "cell_type": "code",
   "execution_count": null,
   "metadata": {},
   "outputs": [],
   "source": [
    "our_condition"
   ]
  },
  {
   "cell_type": "code",
   "execution_count": null,
   "metadata": {},
   "outputs": [],
   "source": [
    "#defining rate\n",
    "our_rate = 6 \n",
    "#apply the rate\n",
    "constant_subset = df_temperature[::our_rate] \n",
    "#data\n",
    "constant_subset"
   ]
  }
 ],
 "metadata": {
  "kernelspec": {
   "display_name": "Python 3.9.7 ('tf_bph')",
   "language": "python",
   "name": "python3"
  },
  "language_info": {
   "codemirror_mode": {
    "name": "ipython",
    "version": 3
   },
   "file_extension": ".py",
   "mimetype": "text/x-python",
   "name": "python",
   "nbconvert_exporter": "python",
   "pygments_lexer": "ipython3",
   "version": "3.9.7"
  },
  "orig_nbformat": 4,
  "vscode": {
   "interpreter": {
    "hash": "cd774bab908e2692cca9e79cb5c72f2d9e30983f1ff0ef40e6e4a8307d564387"
   }
  }
 },
 "nbformat": 4,
 "nbformat_minor": 2
}
