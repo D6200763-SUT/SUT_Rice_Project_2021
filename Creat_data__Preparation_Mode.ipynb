{
 "cells": [
  {
   "cell_type": "code",
   "execution_count": 12,
   "metadata": {},
   "outputs": [],
   "source": [
    "import os\n",
    "import datetime\n",
    "import time\n",
    "\n",
    "import ipywidgets as widgets\n",
    "\n",
    "import IPython\n",
    "import IPython.display\n",
    "# import seaborn as sns\n",
    "import matplotlib as mpl\n",
    "import matplotlib.pyplot as plt\n",
    "from IPython.display import clear_output\n",
    "\n",
    "mpl.rcParams['figure.figsize'] = (8, 6)\n",
    "mpl.rcParams['axes.grid'] = False\n",
    "\n",
    "from math import sqrt\n",
    "from numpy import concatenate\n",
    "import numpy as np\n",
    "import math\n",
    "\n",
    "import pandas as pd\n",
    "from pandas import DataFrame\n",
    "from pandas import concat\n",
    "\n",
    "from sklearn.preprocessing import MinMaxScaler\n",
    "from sklearn.preprocessing import LabelEncoder\n",
    "from sklearn.metrics import mean_squared_error\n",
    "\n",
    "import tensorflow \n",
    "import tensorflow as tf\n",
    "from tensorflow import keras\n",
    "\n",
    "import platform\n",
    "# print(platform.python_version())\n",
    "# print(tf.version.VERSION)\n",
    "# print(np.__version__)\n",
    "\n"
   ]
  },
  {
   "cell_type": "code",
   "execution_count": 7,
   "metadata": {},
   "outputs": [
    {
     "name": "stdout",
     "output_type": "stream",
     "text": [
      "All low RiceCenter 34 station\n"
     ]
    }
   ],
   "source": [
    "## File name and Path\n",
    "path_adress1 = \".\\\\template-Data Parameters Required for Brown planthopper\\\\\"\n",
    "path_adress2 = \"\\\\station\\\\\"\n",
    "path_adress3 = \".\\\\Import_Dataset\\\\\"\n",
    "\n",
    "#ข้อมูล พิกัดสถานที่เเละรายชื้ออ้างอิงสถานที่ตรวจวัด\n",
    "file_name_st = 'Data_lat_long_Rice research Center'\n",
    "csv_file =path_adress1 + path_adress2 + file_name_st + '.csv'\n",
    "\n",
    "df_st = pd.read_csv(csv_file)\n",
    "print(\"All low RiceCenter {} station\" .format(df_st.shape[0]))\n",
    "\n",
    "st_num =  list(range(1, len(df_st)))\n",
    "st_name = []\n",
    "st_name = df_st['nameEng'].values.tolist()\n",
    "\n",
    "# st_num = [0,1,2,3,4,5,6,7,8,9,10,11,12,13,14,15,16,17,18,19,20,21,22,23,24,25,26,27,28,29,30,31,32,33]"
   ]
  },
  {
   "cell_type": "code",
   "execution_count": null,
   "metadata": {},
   "outputs": [],
   "source": [
    "df_st.columns"
   ]
  },
  {
   "cell_type": "code",
   "execution_count": null,
   "metadata": {},
   "outputs": [],
   "source": [
    "def creat_dataset(st_BPH = 0, y_1 = '2015',y_2 = '2019',mode = 1):\n",
    "    for i in range(len(st_num)):\n",
    "        st = i\n",
    "        file_name = df_st['nameEng'][st_num[st]]\n",
    "        name_input = file_name\n",
    "        name_locals = 'stN_' + file_name   \n",
    "        \n",
    "        ## File name and Path\n",
    "        csv_file  = path_adress3 + name_input + '.csv'\n",
    "        dataset = pd.read_csv(csv_file,header=0, index_col=0,encoding=\"TIS-620\" )  #index_col=0 , index_col=None\n",
    "        dataset = dataset.drop(['address'], axis=1)\n",
    "        dataset = dataset.drop(['year'], axis=1)\n",
    "        dataset = dataset.drop(['dew'], axis=1)\n",
    "        # dataset = dataset.drop(['latitude'], axis=1)\n",
    "        # dataset = dataset.drop(['longitude'], axis=1)\n",
    "        dataset.columns\n",
    "        dataset = dataset.rename(columns = {'พันธุ์พื้นเมือง':'Varieties-1',\n",
    "        'กข-6':'Varieties-2',\n",
    "        'กข-15':'Varieties-3',\n",
    "        'ขาวดอกมะลิ-105':'Varieties-4',\n",
    "        'สุพรรณบุรี-60,90':'Varieties-5',\n",
    "        'ราชการไวต่อแสง':'Varieties-6',\n",
    "        'ราชการไม่ไวต่อแสง':'Varieties-7',\n",
    "        'ชัยนาท-1':'Varieties-8',\n",
    "        'คลองหลวง-1':'Varieties-9',\n",
    "        'หอมสุพรรณบุรี':'Varieties-10',\n",
    "        'ปทุมธานี-1':'Varieties-11',\n",
    "        'สุพรรณบุรี-1':'Varieties-12',\n",
    "        'กข 10':'Varieties-13',\n",
    "        'กขไม่ไวแสง':'Varieties-14',\n",
    "        'สุพรรณบุรี 60-90':'Varieties-15',\n",
    "        'ราชการไม่ไวแสง':'Varieties-16',\n",
    "        'พิษณุโลก2 60-2':'Varieties-17',\n",
    "        'ชัยนาท 1-2':'Varieties-18',\n",
    "        'ปทุมธานี 1':'Varieties-19',\n",
    "        'สุพรรณบุรี 1':'Varieties-20'}, inplace = False)\n",
    "\n",
    "        locals()[name_locals] = dataset\n",
    "        # print(f'Dataframe name_station: {st+1 , name_input}')\n",
    "        print('wait......')\n",
    "        del dataset\n",
    "        clear_output(wait=True)\n",
    "\n",
    "    date_start = y_1 + '-01' + '-01'\n",
    "    date_stop = y_2 + '-12' + '-31'  \n",
    "    \n",
    "#---------------------------------------------------------------------------------------------------------------------------------------------------#\n",
    "    if mode == 0:\n",
    "        file_name = df_st['nameEng'][st_BPH]\n",
    "        locals_input = 'stN_' + file_name\n",
    "        print(locals_input)\n",
    "        dataset_st=locals()[locals_input].loc[date_start:date_stop]   \n",
    "        frames_st = dataset_st\n",
    "    else:\n",
    "        m = 0\n",
    "        for j in range(len(st_num)):\n",
    "        # for j in range(df_st.shape[0]):\n",
    "            # file_name = df_st['nameEng'][j]\n",
    "            file_name = df_st['nameEng'][st_num[j]]\n",
    "            locals_input = 'stN_' + file_name\n",
    "            print(locals_input)\n",
    "            dataset_st=locals()[locals_input].loc[date_start:date_stop]\n",
    "            clear_output(wait=True)\n",
    "            if m == 0:\n",
    "                frames_st = dataset_st\n",
    "                m=m+1\n",
    "                print(m)\n",
    "            else:    \n",
    "                frames_st = [frames_st,dataset_st]\n",
    "                frames_st  = pd.concat(frames_st)\n",
    "#---------------------------------------------------------------------------------------------------------------------------------------------------#\n",
    "    # frames=frames_st[new_colum_2]\n",
    "    frames=frames_st\n",
    "    return frames"
   ]
  },
  {
   "cell_type": "code",
   "execution_count": 14,
   "metadata": {},
   "outputs": [
    {
     "name": "stdout",
     "output_type": "stream",
     "text": [
      "stN_Chai Nat Rice research Center\n"
     ]
    }
   ],
   "source": [
    "frames_train = creat_dataset(1,'2014','2014',0)"
   ]
  }
 ],
 "metadata": {
  "kernelspec": {
   "display_name": "Python 3.9.7 ('tf_bph')",
   "language": "python",
   "name": "python3"
  },
  "language_info": {
   "codemirror_mode": {
    "name": "ipython",
    "version": 3
   },
   "file_extension": ".py",
   "mimetype": "text/x-python",
   "name": "python",
   "nbconvert_exporter": "python",
   "pygments_lexer": "ipython3",
   "version": "3.9.7"
  },
  "orig_nbformat": 4,
  "vscode": {
   "interpreter": {
    "hash": "cd774bab908e2692cca9e79cb5c72f2d9e30983f1ff0ef40e6e4a8307d564387"
   }
  }
 },
 "nbformat": 4,
 "nbformat_minor": 2
}
