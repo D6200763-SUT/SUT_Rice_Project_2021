{
 "cells": [
  {
   "cell_type": "code",
   "execution_count": 1,
   "metadata": {},
   "outputs": [],
   "source": [
    "import os\n",
    "import datetime\n",
    "import time\n",
    "\n",
    "import ipywidgets as widgets\n",
    "\n",
    "import IPython\n",
    "import IPython.display\n",
    "# import seaborn as sns\n",
    "import matplotlib as mpl\n",
    "import matplotlib.pyplot as plt\n",
    "from IPython.display import clear_output\n",
    "\n",
    "mpl.rcParams['figure.figsize'] = (8, 6)\n",
    "mpl.rcParams['axes.grid'] = False\n",
    "\n",
    "from math import sqrt\n",
    "from numpy import concatenate\n",
    "import numpy as np\n",
    "import math\n",
    "\n",
    "import pandas as pd\n",
    "from pandas import DataFrame\n",
    "from pandas import concat\n",
    "\n",
    "from sklearn.preprocessing import MinMaxScaler\n",
    "from sklearn.preprocessing import LabelEncoder\n",
    "from sklearn.metrics import mean_squared_error\n",
    "\n",
    "# import tensorflow \n",
    "# import tensorflow as tf\n",
    "# from tensorflow import keras\n",
    "\n",
    "import platform\n",
    "# print(platform.python_version())\n",
    "# print(tf.version.VERSION)\n",
    "# print(np.__version__)\n",
    "\n"
   ]
  },
  {
   "cell_type": "code",
   "execution_count": null,
   "metadata": {},
   "outputs": [],
   "source": [
    "cwd = os.getcwd()\n",
    "# cwd"
   ]
  },
  {
   "cell_type": "code",
   "execution_count": null,
   "metadata": {},
   "outputs": [],
   "source": [
    "# File name and Path\n",
    "cwd = os.getcwd()\n",
    "path_adress = \"/Import_Dataset/\"\n",
    "\n",
    "# ข้อมูล พิกัดสถานที่เเละรายชื้ออ้างอิงสถานที่ตรวจวัด\n",
    "file_name_st = 'Data_lat_long_Rice research Center'\n",
    "csv_file_st = cwd + path_adress + file_name_st + '.csv'\n",
    "\n",
    "df_st = pd.read_csv(csv_file_st)\n",
    "print(\"All low RiceCenter {} station\" .format(df_st.shape[0]))\n",
    "\n",
    "data_list_st_num = list(range(1, len(df_st)))\n",
    "data_list_st_name = []\n",
    "data_list_st_name = df_st['nameEng'].values.tolist()\n",
    "data_list_st_lat = df_st['Latitude'].values.tolist()\n",
    "data_list_st_long = df_st['Longitude'].values.tolist()"
   ]
  },
  {
   "cell_type": "code",
   "execution_count": null,
   "metadata": {},
   "outputs": [],
   "source": [
    "csv_file_st"
   ]
  },
  {
   "cell_type": "code",
   "execution_count": null,
   "metadata": {},
   "outputs": [],
   "source": [
    "st = 10\n",
    "# st_num = 1\n",
    "file_name = df_st['nameEng'][data_list_st_num[st]]\n",
    "name_input = file_name\n",
    "name_locals = 'stN_' + file_name\n",
    "print(name_locals)\n",
    "\n",
    "# File name and Path\n",
    "csv_file = cwd + path_adress + name_input + '.csv'\n",
    "# index_col=0 , index_col=None\n",
    "dataset = pd.read_csv(csv_file, header=0,\n",
    "                      index_col=0, encoding=\"TIS-620\")\n",
    "# dataset = dataset.drop(['address'], axis=1)\n",
    "# dataset = dataset.drop(['year'], axis=1)\n",
    "# dataset = dataset.drop(['dew'], axis=1)\n",
    "header_name = list(dataset)\n",
    "print(header_name)"
   ]
  },
  {
   "cell_type": "code",
   "execution_count": null,
   "metadata": {},
   "outputs": [],
   "source": [
    "# df_temperature = dataset['temp']\n",
    "df_temperature = pd.DataFrame(dataset['bph'].loc['2015-01-01':'2015-01-31']) \n",
    "\n",
    "# df_temperature = \n",
    "# the simple moving average over a period of 10 years\n",
    "# df_temperature['7D-SMA'] = df_temperature.bph.rolling(7, min_periods=1).mean()\n",
    "# df_temperature['3D-SMA'] = df_temperature.bph.rolling(3, min_periods=1).mean()\n",
    "df_temperature['7D-SMA'] = df_temperature.bph.rolling(7, min_periods=1).sum()\n",
    "df_temperature['3D-SMA'] = df_temperature.bph.rolling(3, min_periods=1).sum()\n",
    "# df_temperature"
   ]
  },
  {
   "cell_type": "code",
   "execution_count": null,
   "metadata": {},
   "outputs": [],
   "source": [
    "# colors for the line plot\n",
    "colors = ['green', 'red', 'purple']\n",
    "\n",
    "# line plot - the yearly average air temperature in Barcelona\n",
    "df_temperature.plot(color=colors, linewidth=3, figsize=(12,6))\n",
    "\n",
    "# modify ticks size\n",
    "plt.xticks(fontsize=14)\n",
    "plt.yticks(fontsize=14)\n",
    "plt.legend(labels =['Data Input', '10-years SMA', '20-years SMA'], fontsize=14)\n",
    "\n",
    "# title and labels\n",
    "plt.title('Data average ', fontsize=18)\n",
    "plt.xlabel('date-time', fontsize=16)\n",
    "plt.ylabel('Temperature [°C]', fontsize=16)"
   ]
  },
  {
   "cell_type": "code",
   "execution_count": null,
   "metadata": {},
   "outputs": [],
   "source": [
    "#defining rate\n",
    "our_rate = 6\n",
    " \n",
    "#apply the rate\n",
    "constant_subset = df_temperature[::our_rate]\n",
    " \n",
    "#data\n",
    "constant_subset"
   ]
  },
  {
   "cell_type": "code",
   "execution_count": null,
   "metadata": {},
   "outputs": [],
   "source": [
    "def creat_dataset(st_BPH=0, y_1='2015', y_2='2019', mode=1):\n",
    "    for i in range(len(st_num)):\n",
    "        st = i\n",
    "        file_name = df_st['nameEng'][st_num[st]]\n",
    "        name_input = file_name\n",
    "        name_locals = 'stN_' + file_name\n",
    "\n",
    "        # File name and Path\n",
    "        csv_file = path_adress + name_input + '.csv'\n",
    "        # index_col=0 , index_col=None\n",
    "        dataset = pd.read_csv(csv_file, header=0,\n",
    "                              index_col=0, encoding=\"TIS-620\")\n",
    "        dataset = dataset.drop(['address'], axis=1)\n",
    "        dataset = dataset.drop(['year'], axis=1)\n",
    "        dataset = dataset.drop(['dew'], axis=1)\n",
    "        # dataset = dataset.drop(['latitude'], axis=1)\n",
    "        # dataset = dataset.drop(['longitude'], axis=1)\n",
    "        dataset.columns\n",
    "        locals()[name_locals] = dataset\n",
    "        # print(f'Dataframe name_station: {st+1 , name_input}')\n",
    "        print('wait......')\n",
    "        del dataset\n",
    "        clear_output(wait=True)\n",
    "\n",
    "    date_start = y_1 + '-01' + '-01'\n",
    "    date_stop = y_2 + '-12' + '-31'\n",
    "\n",
    "#---------------------------------------------------------------------------------------------------------------------------------------------------#\n",
    "    if mode == 0:\n",
    "        file_name = df_st['nameEng'][st_BPH]\n",
    "        locals_input = 'stN_' + file_name\n",
    "        print(locals_input)\n",
    "        dataset_st = locals()[locals_input].loc[date_start:date_stop]\n",
    "        frames_st = dataset_st\n",
    "    else:\n",
    "        m = 0\n",
    "        for j in range(len(st_num)):\n",
    "            # for j in range(df_st.shape[0]):\n",
    "            # file_name = df_st['nameEng'][j]\n",
    "            file_name = df_st['nameEng'][st_num[j]]\n",
    "            locals_input = 'stN_' + file_name\n",
    "            print(locals_input)\n",
    "            dataset_st = locals()[locals_input].loc[date_start:date_stop]\n",
    "            clear_output(wait=True)\n",
    "            if m == 0:\n",
    "                frames_st = dataset_st\n",
    "                m = m+1\n",
    "                print(m)\n",
    "            else:\n",
    "                frames_st = [frames_st, dataset_st]\n",
    "                frames_st = pd.concat(frames_st)\n",
    "#---------------------------------------------------------------------------------------------------------------------------------------------------#\n",
    "    # frames=frames_st[new_colum_2]\n",
    "    frames = frames_st\n",
    "    return frames\n"
   ]
  },
  {
   "cell_type": "code",
   "execution_count": null,
   "metadata": {},
   "outputs": [],
   "source": [
    "frames_train = creat_dataset(1,'2015','2015',0)"
   ]
  },
  {
   "cell_type": "code",
   "execution_count": null,
   "metadata": {},
   "outputs": [],
   "source": [
    "frames_train"
   ]
  },
  {
   "cell_type": "code",
   "execution_count": null,
   "metadata": {},
   "outputs": [],
   "source": []
  }
 ],
 "metadata": {
  "kernelspec": {
   "display_name": "Python 3.9.12 ('base')",
   "language": "python",
   "name": "python3"
  },
  "language_info": {
   "codemirror_mode": {
    "name": "ipython",
    "version": 3
   },
   "file_extension": ".py",
   "mimetype": "text/x-python",
   "name": "python",
   "nbconvert_exporter": "python",
   "pygments_lexer": "ipython3",
   "version": "3.9.12"
  },
  "orig_nbformat": 4,
  "vscode": {
   "interpreter": {
    "hash": "8e8988848542d10f25fd12cf88763082c5ddf4a14e6d9e40f84e4bdabc4ebe9d"
   }
  }
 },
 "nbformat": 4,
 "nbformat_minor": 2
}
