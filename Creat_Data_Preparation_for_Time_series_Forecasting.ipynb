{
 "cells": [
  {
   "cell_type": "code",
   "execution_count": 2,
   "id": "f03f4359",
   "metadata": {},
   "outputs": [
    {
     "name": "stderr",
     "output_type": "stream",
     "text": [
      "/tmp/ipykernel_33584/883425045.py:5: FutureWarning: The pandas.datetime class is deprecated and will be removed from pandas in a future version. Import from datetime module instead.\n",
      "  from pandas import datetime\n"
     ]
    }
   ],
   "source": [
    "from scipy.interpolate import interp1d\n",
    "import numpy as np\n",
    "import pandas as pd\n",
    "import matplotlib.pyplot as plt\n",
    "from pandas import datetime\n",
    "from matplotlib import pyplot\n",
    "import os\n",
    "# import glob\n"
   ]
  },
  {
   "cell_type": "code",
   "execution_count": 2,
   "id": "8efb812f",
   "metadata": {
    "scrolled": true
   },
   "outputs": [
    {
     "name": "stdout",
     "output_type": "stream",
     "text": [
      "All low RiceCenter 34 \n"
     ]
    }
   ],
   "source": [
    "# Input data  BPH+CLR\n",
    "\n",
    "path_adress1 = \".\\\\template-Data Parameters Required for Brown planthopper\\\\\"\n",
    "path_adress2 = \"\\\\BPH information from light trap\\\\\"\n",
    "path_adress3 = \"\\\\Mirid bug information from light trap\\\\\"\n",
    "path_adress4 = \"\\\\Information of weather\\\\\"\n",
    "path_adress5 = \"\\\\Information of cultivated rice varieties\\\\\"\n",
    "\n",
    "path_adress7 = \"\\\\station\\\\\"\n",
    "file_name_st = 'Data_lat_long_Rice research Center'\n",
    "\n",
    "csv_file =path_adress1 + path_adress7 + file_name_st + '.csv'\n",
    "\n",
    "df_st = pd.read_csv(csv_file)\n",
    "print(\"All low RiceCenter {} \" .format(df_st.shape[0]))\n",
    "# print('dataset_station')\n",
    "# df_st.head()"
   ]
  },
  {
   "cell_type": "markdown",
   "id": "4343f54c",
   "metadata": {},
   "source": [
    "# creat station BPH + Mirid bug + Weather + Rice varieties DATA"
   ]
  },
  {
   "cell_type": "code",
   "execution_count": 3,
   "id": "6f972251",
   "metadata": {},
   "outputs": [
    {
     "name": "stdout",
     "output_type": "stream",
     "text": [
      ".\\Import_Dataset\\Chachoengsao Rice research Center.csv 1826\n",
      ".\\Import_Dataset\\Chai Nat Rice research Center.csv 1826\n",
      ".\\Import_Dataset\\Chai Nat Rice Seed Center 1.csv 1826\n",
      ".\\Import_Dataset\\Chai Nat Rice Seed Center 2.csv 1826\n",
      ".\\Import_Dataset\\Chiang Mai Rice research Center.csv 1826\n",
      ".\\Import_Dataset\\Chiangrai Rice research Center.csv 1826\n",
      ".\\Import_Dataset\\Chum Phae Rice research Center.csv 1826\n",
      ".\\Import_Dataset\\Khlong Luang Rice research Center.csv 1826\n",
      ".\\Import_Dataset\\Khon Kaen Rice research Center.csv 1826\n",
      ".\\Import_Dataset\\Krabi Rice research Center.csv 1826\n",
      ".\\Import_Dataset\\Lopburi Rice research Center.csv 1826\n",
      ".\\Import_Dataset\\Lopburi Rice Seed Center.csv 1826\n",
      ".\\Import_Dataset\\Mae Hong Son Rice research Center.csv 1826\n",
      ".\\Import_Dataset\\Nakhon Ratchasima Rice research Center.csv 1826\n",
      ".\\Import_Dataset\\Nakhon Sawan Rice Seed Center.csv 1826\n",
      ".\\Import_Dataset\\Nakhon Si Thammarat Rice research Center.csv 1826\n",
      ".\\Import_Dataset\\Nong Khai Rice research Center.csv 1826\n",
      ".\\Import_Dataset\\Pathum Thani Rice research Center.csv 1826\n",
      ".\\Import_Dataset\\Pattani Rice research Center.csv 1826\n",
      ".\\Import_Dataset\\Phatthalung Rice research Center.csv 1826\n",
      ".\\Import_Dataset\\Phitsanulok Rice Seed Center.csv 1826\n",
      ".\\Import_Dataset\\Phra Nakhon Si Ayutthaya Rice research Center.csv 1826\n",
      ".\\Import_Dataset\\Phrae Rice research Center.csv 1826\n",
      ".\\Import_Dataset\\Prachinburi Rice research Center.csv 1826\n",
      ".\\Import_Dataset\\Ratchaburi Rice research Center.csv 1826\n",
      ".\\Import_Dataset\\Ratchaburi Rice Seed Center 1.csv 1826\n",
      ".\\Import_Dataset\\Ratchaburi Rice Seed Center 2.csv 1826\n",
      ".\\Import_Dataset\\Roi Et Rice Seed Center.csv 1826\n",
      ".\\Import_Dataset\\Sakon Nakhon Rice research Center.csv 1826\n",
      ".\\Import_Dataset\\Samoeng Rice research Center.csv 1826\n",
      ".\\Import_Dataset\\Sukhothai Rice Seed Center.csv 1826\n",
      ".\\Import_Dataset\\Surin Rice research Center.csv 1826\n",
      ".\\Import_Dataset\\Ubon Ratchathani Rice research Center.csv 1826\n",
      ".\\Import_Dataset\\Udon Thani Rice research Center.csv 1826\n"
     ]
    }
   ],
   "source": [
    "date_start = '2015-01-01'\n",
    "date_end = '2019-12-31'\n",
    "\n",
    "for st in range(df_st.shape[0]):\n",
    "# for st in range(1):    \n",
    "\n",
    "    file_stN = str(df_st.iloc[st]['nameEng'])    \n",
    "      \n",
    "    csv_file_bph = path_adress1 + path_adress2 + file_stN + ' ' + 'BPH'  + '.csv'\n",
    "#     print(csv_file_bph)\n",
    "    csv_file_mb = path_adress1 + path_adress3 + file_stN + ' ' + 'Mirid bug'  + '.csv'\n",
    "#     print(csv_file_mb)\n",
    "    csv_file_w = path_adress1 + path_adress4 + file_stN + ' ' + 'Weather'  + '.csv'\n",
    "#     print(csv_file_mb)\n",
    "    csv_file_rvin = path_adress1 + path_adress5 + file_stN + ' ' + 'in-season' + '.csv'\n",
    "#     print(csv_file_rvin)\n",
    "    csv_file_rvoff = path_adress1 + path_adress5 + file_stN + ' ' + 'off-season' + '.csv'\n",
    "#     print(csv_file_rvoff)\n",
    "    \n",
    "    df_bph = pd.read_csv(csv_file_bph,index_col='date')\n",
    "    df_mb = pd.read_csv(csv_file_mb,index_col='date')\n",
    "    \n",
    "    df_w = pd.read_csv(csv_file_w)\n",
    "    df_w['date'] = pd.to_datetime(df_w['date'], format='%m/%d/%Y') \n",
    "    df_w = df_w.set_index('date')\n",
    "    \n",
    "    df_rvin = pd.read_csv(csv_file_rvin,index_col='date',encoding=\"TIS-620\")\n",
    "    df_rvoff = pd.read_csv(csv_file_rvoff,index_col='date',encoding=\"TIS-620\")\n",
    "\n",
    "    df_bph = df_bph[(df_bph.index >= date_start)&(df_bph.index <= date_end)]    \n",
    "    df_mb = df_mb[(df_mb.index >= date_start)&(df_mb.index <= date_end)] \n",
    "#     df_w = df_w[(df_w.index >= date_start)&(df_w.index <= date_end)]\n",
    "#     df_rvin = df_rvin[(df_rvin.index >= date_start)&(df_rvin.index <= date_end)]\n",
    "#     df_rvoff = df_rvoff[(df_rvoff.index >= date_start)&(df_rvoff.index <= date_end)]\n",
    "    \n",
    "    df_out = pd.DataFrame(df_bph)  \n",
    "    \n",
    "    df_out['mirid bug'] = df_mb.iloc[:,3].values.tolist()\n",
    "    \n",
    "    for col in range(len(list(df_w.columns))-3):\n",
    "        df_out[list(df_w.columns)[col+3]] = df_w.iloc[:,col+3].values.tolist()\n",
    "    for col in range(len(list(df_rvin.columns))-3):\n",
    "        df_out[list(df_rvin.columns)[col+3]] = df_rvin.iloc[:,col+3].values.tolist()\n",
    "    for col in range(len(list(df_rvoff.columns))-3):\n",
    "        df_out[list(df_rvoff.columns)[col+3]] = df_rvoff.iloc[:,col+3].values.tolist()\n",
    "\n",
    "    df_out['day'] = df_w.index.day\n",
    "    df_out['month'] = df_w.index.month\n",
    "    df_out['year'] = df_w.index.year\n",
    "    df_out.reset_index(inplace = True)  \n",
    "    \n",
    "    new_colum = ['date','address','latitude','longitude','day','month','year','mirid bug','mint','maxt','temp','dew','humidity','wspd','wdir','precip',\n",
    "                'พันธุ์พื้นเมือง','กข-6','กข-15','ขาวดอกมะลิ-105','สุพรรณบุรี-60,90','ราชการไวต่อแสง','ราชการไม่ไวต่อแสง','ชัยนาท-1',\n",
    "                'คลองหลวง-1','หอมสุพรรณบุรี','ปทุมธานี-1','สุพรรณบุรี-1','กข 10','กขไม่ไวแสง','สุพรรณบุรี 60-90','ราชการไม่ไวแสง','พิษณุโลก2 60-2',\n",
    "                'ชัยนาท 1-2','ปทุมธานี 1','สุพรรณบุรี 1','bph']\n",
    "    \n",
    "    df_out=df_out[new_colum]\n",
    "\n",
    "    df_out = df_out.rename(columns = {'พันธุ์พื้นเมือง':'R-1',\n",
    "        'กข-6':'R-2',\n",
    "        'กข-15':'R-3',\n",
    "        'ขาวดอกมะลิ-105':'R-4',\n",
    "        'สุพรรณบุรี-60,90':'R-5',\n",
    "        'ราชการไวต่อแสง':'R-6',\n",
    "        'ราชการไม่ไวต่อแสง':'R-7',\n",
    "        'ชัยนาท-1':'R-8',\n",
    "        'คลองหลวง-1':'R-9',\n",
    "        'หอมสุพรรณบุรี':'R-10',\n",
    "        'ปทุมธานี-1':'R-11',\n",
    "        'สุพรรณบุรี-1':'R-12',\n",
    "        'กข 10':'R-13',\n",
    "        'กขไม่ไวแสง':'R-14',\n",
    "        'สุพรรณบุรี 60-90':'R-15',\n",
    "        'ราชการไม่ไวแสง':'R-16',\n",
    "        'พิษณุโลก2 60-2':'R-17',\n",
    "        'ชัยนาท 1-2':'R-18',\n",
    "        'ปทุมธานี 1':'R-19',\n",
    "        'สุพรรณบุรี 1':'R-20'}, inplace = False)\n",
    "        \n",
    "    #Output : file name and Path Save file\n",
    "    path_adress_out = \".\\\\Import_Dataset\\\\\"\n",
    "    file_name_save = file_stN\n",
    "    dataset_path_save = path_adress_out + file_name_save + '.csv'\n",
    "    df_out.to_csv(dataset_path_save, index=False, encoding=\"TIS-620\")\n",
    "    print(\"{} {}\" .format(dataset_path_save,len(df_out)))\n",
    "    del df_out,df_bph,df_mb,df_rvin,df_rvoff,df_w\n",
    "   "
   ]
  }
 ],
 "metadata": {
  "kernelspec": {
   "display_name": "Python 3.9.12 ('base')",
   "language": "python",
   "name": "python3"
  },
  "language_info": {
   "codemirror_mode": {
    "name": "ipython",
    "version": 3
   },
   "file_extension": ".py",
   "mimetype": "text/x-python",
   "name": "python",
   "nbconvert_exporter": "python",
   "pygments_lexer": "ipython3",
   "version": "3.9.12"
  },
  "vscode": {
   "interpreter": {
    "hash": "8e8988848542d10f25fd12cf88763082c5ddf4a14e6d9e40f84e4bdabc4ebe9d"
   }
  }
 },
 "nbformat": 4,
 "nbformat_minor": 5
}
