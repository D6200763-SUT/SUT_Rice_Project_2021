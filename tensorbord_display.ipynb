{
 "cells": [
  {
   "cell_type": "code",
   "execution_count": null,
   "metadata": {},
   "outputs": [],
   "source": [
    "# Load the TensorBoard notebook extension\n",
    "%load_ext tensorboard"
   ]
  },
  {
   "cell_type": "code",
   "execution_count": null,
   "metadata": {},
   "outputs": [],
   "source": [
    "#################--           open TensorBoard          --#################   \n",
    "def displaytensor():\n",
    "      # %tensorboard --logdir logs --port=6006\n",
    "      %tensorboard --logdir logs --port=8008\n",
    "\n",
    "      # from tensorboard import notebook\n",
    "      # notebook.list() # View open TensorBoard instances\n",
    "      # notebook.display(port=6006, height=1000) \n",
    "      import webbrowser\n",
    "      # generate an URL\n",
    "      # url = 'http://localhost:6006/'\n",
    "      url = 'http://localhost:8008/'\n",
    "      webbrowser.open(url)"
   ]
  },
  {
   "cell_type": "code",
   "execution_count": null,
   "metadata": {},
   "outputs": [],
   "source": [
    "displaytensor()"
   ]
  },
  {
   "cell_type": "code",
   "execution_count": 4,
   "metadata": {},
   "outputs": [
    {
     "name": "stdout",
     "output_type": "stream",
     "text": [
      "[]\n"
     ]
    }
   ],
   "source": [
    "import os\n",
    "# File name and Path\n",
    "cwd = os.getcwd()\n",
    "dir_path = cwd + \"/Export_lstm/model/\"\n",
    "\n",
    "\n",
    "# list to store files\n",
    "res = []\n",
    "\n",
    "# Iterate directory\n",
    "for path in os.listdir(dir_path):\n",
    "    # check if current path is a file\n",
    "    if os.path.isfile(os.path.join(dir_path, path)):\n",
    "        res.append(path)\n",
    "print(res)"
   ]
  }
 ],
 "metadata": {
  "kernelspec": {
   "display_name": "Python 3.9.7 ('tf_bph')",
   "language": "python",
   "name": "python3"
  },
  "language_info": {
   "codemirror_mode": {
    "name": "ipython",
    "version": 3
   },
   "file_extension": ".py",
   "mimetype": "text/x-python",
   "name": "python",
   "nbconvert_exporter": "python",
   "pygments_lexer": "ipython3",
   "version": "3.9.7"
  },
  "orig_nbformat": 4,
  "vscode": {
   "interpreter": {
    "hash": "cd774bab908e2692cca9e79cb5c72f2d9e30983f1ff0ef40e6e4a8307d564387"
   }
  }
 },
 "nbformat": 4,
 "nbformat_minor": 2
}
