{
 "cells": [
  {
   "cell_type": "code",
   "execution_count": 76,
   "metadata": {},
   "outputs": [],
   "source": [
    "import numpy as np\n",
    "import pandas as pd\n",
    "from pandas import concat\n",
    "from pandas import DataFrame\n",
    "import tensorflow as tf \n",
    "\n",
    "import matplotlib.pyplot as plt\n",
    "import datetime,os\n",
    "\n",
    "from sklearn.metrics import mean_squared_error,r2_score,mean_absolute_error"
   ]
  },
  {
   "cell_type": "code",
   "execution_count": 77,
   "metadata": {},
   "outputs": [],
   "source": [
    "def plot_data(frames_train,df_name):\n",
    "    #ตรวจสอบข้อมูล dataset \n",
    "    plt.figure()\n",
    "    df_plot = frames_train\n",
    "    df_plot.plot(lw=1,grid=True,figsize=(15,7),subplots=True)\n",
    "    plt.xlabel('time-(day)'+ df_name)\n",
    "    plt.legend()\n",
    "    # plt.show()"
   ]
  },
  {
   "cell_type": "code",
   "execution_count": 88,
   "metadata": {},
   "outputs": [
    {
     "name": "stdout",
     "output_type": "stream",
     "text": [
      "predict BPH 12389 data\n",
      "['date', 'actual', 'predict']\n",
      "RMSE-all: 16.3749\n",
      "R2-all: 0.9593\n",
      "MAE-all: 5.0232\n"
     ]
    }
   ],
   "source": [
    "# File name and Path\n",
    "# cwd = os.getcwd()\n",
    "\n",
    "n=2\n",
    "path_adress = [ \"/home/np13-sut-pc/Documents/ผลการทดลอง/output model A LSTM 4V/\",\n",
    "                \"/home/np13-sut-pc/Documents/ผลการทดลอง/output model A LSTM 6V/\",\n",
    "                \"/home/np13-sut-pc/Documents/ผลการทดลอง/output model A LSTM 8V/\",\n",
    "                \"/home/np13-sut-pc/Documents/ผลการทดลอง/output model A LSTM 28V/\"]\n",
    "\n",
    "V = ['4V','6V','8V','28V']\n",
    "# ข้อมูล พิกัดสถานที่เเละรายชื้ออ้างอิงสถานที่ตรวจวัด\n",
    "file_name_st = 'output model A 21-1-300-'+V[n]\n",
    "csv_file_st = path_adress[n] + file_name_st + '.csv'\n",
    "\n",
    "df_result = pd.read_csv(csv_file_st)\n",
    "print(\"predict BPH {} data\" .format(df_result.shape[0]))\n",
    "col = list(df_result)\n",
    "\n",
    "print(col)\n",
    "\n",
    "n1 = 0\n",
    "n2 = 350\n",
    "actual = df_result['actual'][n1:n2]\n",
    "predict = df_result['predict'][n1:n2]\n",
    "\n",
    "# calculate RMSE\n",
    "rmse_1 = mean_squared_error(actual, predict, squared=False)\n",
    "print('RMSE-all: %.4f' % rmse_1)\n",
    "\n",
    "# calculate R2\n",
    "r2_1 = r2_score(actual, predict)\n",
    "print('R2-all: %.4f' % r2_1)\n",
    "\n",
    " # calculate MAE\n",
    "mae_1 = mean_absolute_error(actual, predict)\n",
    "print('MAE-all: %.4f' % mae_1)"
   ]
  }
 ],
 "metadata": {
  "kernelspec": {
   "display_name": "Python 3.10.4 ('tf_bph')",
   "language": "python",
   "name": "python3"
  },
  "language_info": {
   "codemirror_mode": {
    "name": "ipython",
    "version": 3
   },
   "file_extension": ".py",
   "mimetype": "text/x-python",
   "name": "python",
   "nbconvert_exporter": "python",
   "pygments_lexer": "ipython3",
   "version": "3.10.4"
  },
  "orig_nbformat": 4,
  "vscode": {
   "interpreter": {
    "hash": "0e4ccb82a3f882ff33793e2fd72a967c991b1009db10b47a306b585d520f8880"
   }
  }
 },
 "nbformat": 4,
 "nbformat_minor": 2
}
