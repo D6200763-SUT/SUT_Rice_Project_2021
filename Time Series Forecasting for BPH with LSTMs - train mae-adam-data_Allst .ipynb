{
 "cells": [
  {
   "cell_type": "markdown",
   "id": "fb1b4d20",
   "metadata": {},
   "source": [
    "### Time Series Forecasting for BPH with LSTMs in Keras in Keras  Train On Multiple Lag Timesteps Example"
   ]
  },
  {
   "cell_type": "markdown",
   "id": "4f5f2ba8",
   "metadata": {},
   "source": [
    "link https://machinelearningmastery.com/multivariate-time-series-forecasting-lstms-keras/\n",
    "\n",
    "### โครงข่ายประสาทเทียม เช่น Long Short-Term Memory (LSTM) โครงข่ายประสาทเทียมแบบเกิดซ้ำ สามารถสร้างแบบจำลองปัญหาได้เกือบจะต่อเนื่องกับตัวแปรอินพุตหลายตัว\n",
    "\n",
    "-เเนวความคิดจากการทด\n",
    "\n",
    "วิธีแปลงชุดข้อมูลดิบเป็นสิ่งที่เราสามารถใช้สำหรับการคาดการณ์อนุกรมเวลา\n",
    "วิธีเตรียมข้อมูลและจัดวาง LSTM สำหรับปัญหาการพยากรณ์อนุกรมเวลาแบบหลายตัวแปร\n",
    "วิธีพยากรณ์และปรับขนาดผลลัพธ์กลับเป็นหน่วยเดิม\n",
    "\n",
    "เริ่มโครงการของคุณด้วยหนังสือเล่มใหม่ Deep Learning for Time Series Forecasting รวมถึงบทช่ Pythonสำหรับตัวอย่างทั้งหมด https://machinelearningmastery.com/deep-learning-for-time-series-forecasting/วยสอนทีละขั้นตอนและไฟล์ซอร์สโค้ด"
   ]
  },
  {
   "cell_type": "markdown",
   "id": "fa06fbb4",
   "metadata": {},
   "source": [
    "data st_num = all Station\n",
    "\n",
    "Optimizer = Adam\n",
    "\n",
    "loss = mae\n",
    "\n",
    "feature = lat - long "
   ]
  },
  {
   "cell_type": "markdown",
   "id": "7b741f24",
   "metadata": {},
   "source": [
    "## Setup"
   ]
  },
  {
   "cell_type": "code",
   "execution_count": 1,
   "id": "c92db280",
   "metadata": {},
   "outputs": [],
   "source": [
    "import os\n",
    "import datetime\n",
    "import time\n",
    "\n",
    "import ipywidgets as widgets\n",
    "\n",
    "import IPython\n",
    "import IPython.display\n",
    "# import seaborn as sns\n",
    "import matplotlib as mpl\n",
    "import matplotlib.pyplot as plt\n",
    "from IPython.display import clear_output\n",
    "\n",
    "mpl.rcParams['figure.figsize'] = (8, 6)\n",
    "mpl.rcParams['axes.grid'] = False\n",
    "\n",
    "from math import sqrt\n",
    "from numpy import concatenate\n",
    "import numpy as np\n",
    "import math\n",
    "\n",
    "import pandas as pd\n",
    "from pandas import DataFrame\n",
    "from pandas import concat\n",
    "\n",
    "from sklearn.preprocessing import MinMaxScaler\n",
    "from sklearn.preprocessing import LabelEncoder\n",
    "from sklearn.metrics import mean_squared_error\n",
    "\n",
    "import tensorflow \n",
    "import tensorflow as tf\n",
    "from tensorflow import keras\n",
    "\n",
    "import platform\n",
    "# print(platform.python_version())\n",
    "# print(tf.version.VERSION)\n",
    "# print(np.__version__)"
   ]
  },
  {
   "cell_type": "markdown",
   "id": "851647b9",
   "metadata": {},
   "source": [
    "# setup parameter"
   ]
  },
  {
   "cell_type": "code",
   "execution_count": 2,
   "id": "f9704706",
   "metadata": {},
   "outputs": [
    {
     "data": {
      "application/vnd.jupyter.widget-view+json": {
       "model_id": "8b3985142635422889cac5f4b545cede",
       "version_major": 2,
       "version_minor": 0
      },
      "text/plain": [
       "BoundedIntText(value=14, description='Lag-Day :', max=24, min=1)"
      ]
     },
     "metadata": {},
     "output_type": "display_data"
    },
    {
     "data": {
      "application/vnd.jupyter.widget-view+json": {
       "model_id": "903194406f194fb8a113abde30e24924",
       "version_major": 2,
       "version_minor": 0
      },
      "text/plain": [
       "BoundedIntText(value=3, description='Predict-Day :', max=7, min=1)"
      ]
     },
     "metadata": {},
     "output_type": "display_data"
    },
    {
     "data": {
      "application/vnd.jupyter.widget-view+json": {
       "model_id": "342083de10c94cbebdc525cf956d40cc",
       "version_major": 2,
       "version_minor": 0
      },
      "text/plain": [
       "IntText(value=0, description='station-test :')"
      ]
     },
     "metadata": {},
     "output_type": "display_data"
    },
    {
     "data": {
      "application/vnd.jupyter.widget-view+json": {
       "model_id": "61d7ac51e50a4defbd35224d3f601eae",
       "version_major": 2,
       "version_minor": 0
      },
      "text/plain": [
       "IntRangeSlider(value=(2015, 2017), continuous_update=False, description='year_train :', max=2019, min=2015)"
      ]
     },
     "metadata": {},
     "output_type": "display_data"
    },
    {
     "data": {
      "application/vnd.jupyter.widget-view+json": {
       "model_id": "31581525e4cb48e5a7cd7f8bba264a2e",
       "version_major": 2,
       "version_minor": 0
      },
      "text/plain": [
       "IntRangeSlider(value=(2018, 2018), continuous_update=False, description='year_valid :', max=2019, min=2015)"
      ]
     },
     "metadata": {},
     "output_type": "display_data"
    },
    {
     "data": {
      "application/vnd.jupyter.widget-view+json": {
       "model_id": "112fefa8dd324b988fd9bb3f4fc06a9f",
       "version_major": 2,
       "version_minor": 0
      },
      "text/plain": [
       "IntRangeSlider(value=(2019, 2019), continuous_update=False, description='year_valid:', max=2019, min=2015)"
      ]
     },
     "metadata": {},
     "output_type": "display_data"
    },
    {
     "data": {
      "application/vnd.jupyter.widget-view+json": {
       "model_id": "a4ea2cfb071b4b5896b8a2b36887ffe0",
       "version_major": 2,
       "version_minor": 0
      },
      "text/plain": [
       "IntSlider(value=100, continuous_update=False, description='Epochs :', max=5000, step=50)"
      ]
     },
     "metadata": {},
     "output_type": "display_data"
    }
   ],
   "source": [
    "n_d = widgets.BoundedIntText(\n",
    "    value=14,\n",
    "    min=1,\n",
    "    max=24,\n",
    "    step=1,\n",
    "    description='Lag-Day :',\n",
    "    disabled=False\n",
    ")\n",
    "display(n_d)\n",
    "n_f = widgets.BoundedIntText(\n",
    "    value=3,\n",
    "    min=1,\n",
    "    max=7,\n",
    "    step=1,\n",
    "    description='Predict-Day :',\n",
    "    disabled=False\n",
    ")\n",
    "display(n_f)\n",
    "n_st = widgets.IntText(\n",
    "    value=0,\n",
    "    description='station-test :',\n",
    "    disabled=False\n",
    ")\n",
    "display(n_st)\n",
    "y_t = widgets.IntRangeSlider(\n",
    "    value=[2015, 2017],\n",
    "    min=2015,\n",
    "    max=2019,\n",
    "    step=1,\n",
    "    description='year_train :',\n",
    "    disabled=False,\n",
    "    continuous_update=False,\n",
    "    orientation='horizontal',\n",
    "    readout=True,\n",
    "    readout_format='d',\n",
    ")\n",
    "display(y_t) \n",
    "y_v = widgets.IntRangeSlider(\n",
    "    value=[2018, 2018],\n",
    "    min=2015,\n",
    "    max=2019,\n",
    "    step=1,\n",
    "    description='year_valid :',\n",
    "    disabled=False,\n",
    "    continuous_update=False,\n",
    "    orientation='horizontal',\n",
    "    readout=True,\n",
    "    readout_format='d',\n",
    ")\n",
    "display(y_v) \n",
    "y_p = widgets.IntRangeSlider(\n",
    "    value=[2019, 2019],\n",
    "    min=2015,\n",
    "    max=2019,\n",
    "    step=1,\n",
    "    description='year_valid:',\n",
    "    disabled=False,\n",
    "    continuous_update=False,\n",
    "    orientation='horizontal',\n",
    "    readout=True,\n",
    "    readout_format='d',\n",
    ")\n",
    "display(y_p) \n",
    "\n",
    "n_e = widgets.IntSlider(\n",
    "    value=100,\n",
    "    min=0,\n",
    "    max=5000,\n",
    "    step=50,\n",
    "    description='Epochs :',\n",
    "    disabled=False,\n",
    "    continuous_update=False,\n",
    "    orientation='horizontal',\n",
    "    readout=True,\n",
    "    readout_format='d'\n",
    ")\n",
    "display(n_e)"
   ]
  },
  {
   "cell_type": "code",
   "execution_count": 3,
   "id": "15ce029f",
   "metadata": {},
   "outputs": [],
   "source": [
    "# specify the number of lag hours\n",
    "n_day = int(n_d.value)\n",
    "n_out = int(n_f.value)\n",
    "\n",
    "st = int(n_st.value)\n",
    "mode_st = 1    # 0 = 1 station  , 1  = all station\n",
    "\n",
    "Epochs = n_e.value\n",
    "\n",
    "# y_train_1 = '2015'\n",
    "# y_train_2 = '2017' \n",
    "# y_val_1 = '2018'\n",
    "# y_val_2 = '2018'\n",
    "# y_pre_1 = '2019'\n",
    "# y_pre_2 = '2019'\n",
    "\n",
    "y_train_1 = str(y_t.value[0])\n",
    "y_train_2 = str(y_t.value[1])\n",
    "y_val_1 = str(y_v.value[0])\n",
    "y_val_2 = str(y_v.value[1])\n",
    "y_pre_1 = str(y_p.value[0])\n",
    "y_pre_2 = str(y_p.value[1])\n",
    "\n",
    "model_test = 2\n",
    "\n",
    "trainning_mode = \"newtrain\"\n",
    "# trainning_mode = \"retrain\""
   ]
  },
  {
   "cell_type": "code",
   "execution_count": 4,
   "id": "203f3a02",
   "metadata": {},
   "outputs": [],
   "source": [
    "tt = widgets.RadioButtons(\n",
    "    options=['pepperoni', 'pineapple', 'anchovies'],\n",
    "    value='pineapple', # Defaults to 'pineapple'\n",
    "    # layout={'width': 'max-content'}, # If the items' names are long\n",
    "    description='Pizza topping:',\n",
    "    disabled=False\n",
    ")\n",
    "\n"
   ]
  },
  {
   "cell_type": "markdown",
   "id": "d3832c21",
   "metadata": {},
   "source": [
    "## data Preparation "
   ]
  },
  {
   "cell_type": "code",
   "execution_count": 20,
   "id": "08d7c293",
   "metadata": {},
   "outputs": [
    {
     "name": "stdout",
     "output_type": "stream",
     "text": [
      "All low RiceCenter 34 station\n"
     ]
    }
   ],
   "source": [
    "## File name and Path\n",
    "path_adress1 = \".\\\\template-Data Parameters Required for Brown planthopper\\\\\"\n",
    "path_adress2 = \"\\\\station\\\\\"\n",
    "path_adress3 = \".\\\\Import_Dataset\\\\\"\n",
    "\n",
    "#ข้อมูล พิกัดสถานที่เเละรายชื้ออ้างอิงสถานที่ตรวจวัด\n",
    "file_name_st = 'Data_lat_long_Rice research Center'\n",
    "csv_file =path_adress1 + path_adress2 + file_name_st + '.csv'\n",
    "\n",
    "df_st = pd.read_csv(csv_file)\n",
    "print(\"All low RiceCenter {} station\" .format(df_st.shape[0]))\n",
    "\n",
    "# st_num = [0,1,2,3,4,6,8,11,12,13,14,15,17,18,20,21,23,27,29,30]\n",
    "st_num = [0,1,2,3,4,5,6,7,8,9,10,11,12,13,14,15,16,17,18,19,20,21,22,23,24,25,26,27,28,29,30,31,32,33]"
   ]
  },
  {
   "cell_type": "code",
   "execution_count": 8,
   "id": "da244bbc",
   "metadata": {},
   "outputs": [],
   "source": [
    "# convert series to supervised learning\n",
    "def series_to_supervised(data, n_in=1, n_out=1, dropnan=True):\n",
    "\tn_vars = 1 if type(data) is list else data.shape[1]\n",
    "\tdf = DataFrame(data)\n",
    "\tcols, names = list(), list()\n",
    "\t# input sequence (t-n, ... t-1)\n",
    "\tfor i in range(n_in, 0, -1):\n",
    "\t\tcols.append(df.shift(i))\n",
    "\t\tnames += [('var%d(t-%d)' % (j+1, i)) for j in range(n_vars)]\n",
    "\t# forecast sequence (t, t+1, ... t+n)\n",
    "\tfor i in range(0, n_out):\n",
    "\t\tcols.append(df.shift(-i))\n",
    "\t\tif i == 0:\n",
    "\t\t\tnames += [('var%d(t)' % (j+1)) for j in range(n_vars)]\n",
    "\t\telse:\n",
    "\t\t\tnames += [('var%d(t+%d)' % (j+1, i)) for j in range(n_vars)]\n",
    "\t# put it all together\n",
    "\tagg = concat(cols, axis=1)\n",
    "\tagg.columns = names\n",
    "\t# drop rows with NaN values\n",
    "\tif dropnan:\n",
    "\t\tagg.dropna(inplace=True)\n",
    "\treturn agg"
   ]
  },
  {
   "cell_type": "markdown",
   "id": "49aaa356",
   "metadata": {},
   "source": [
    "### load data\n"
   ]
  },
  {
   "cell_type": "code",
   "execution_count": 9,
   "id": "271536dc",
   "metadata": {},
   "outputs": [],
   "source": [
    "# Preparing Pandas Dataframes for Machine Learning\n",
    "\n",
    "def creat_dataset(st_BPH = 0, y_1 = '2015',y_2 = '2019',mode = 1):\n",
    "    for i in range(len(st_num)):\n",
    "        st = i\n",
    "        file_name = df_st['nameEng'][st_num[st]]\n",
    "        name_input = file_name\n",
    "        name_locals = 'stN_' + file_name   \n",
    "        \n",
    "        ## File name and Path\n",
    "        csv_file  = path_adress3 + name_input + '.csv'\n",
    "        dataset = pd.read_csv(csv_file,header=0, index_col=0,encoding=\"TIS-620\" )  #index_col=0 , index_col=None\n",
    "        # dataset = dataset.drop(['address'], axis=1)\n",
    "        # dataset = dataset.drop(['year'], axis=1)\n",
    "        # dataset = dataset.drop(['dew'], axis=1)\n",
    "        # dataset = dataset.drop(['latitude'], axis=1)\n",
    "        # dataset = dataset.drop(['longitude'], axis=1)\n",
    "        \n",
    "        dataset = dataset.rename(columns = {'พันธุ์พื้นเมือง':'Varieties-1',\n",
    "        'กข-6':'Varieties-2',\n",
    "        'กข-15':'Varieties-3',\n",
    "        'ขาวดอกมะลิ-105':'Varieties-4',\n",
    "        'สุพรรณบุรี-60,90':'Varieties-5',\n",
    "        'ราชการไวต่อแสง':'Varieties-6',\n",
    "        'ราชการไม่ไวต่อแสง':'Varieties-7',\n",
    "        'ชัยนาท-1':'Varieties-8',\n",
    "        'คลองหลวง-1':'Varieties-9',\n",
    "        'หอมสุพรรณบุรี':'Varieties-10',\n",
    "        'ปทุมธานี-1':'Varieties-11',\n",
    "        'สุพรรณบุรี-1':'Varieties-12',\n",
    "        'กข 10':'Varieties-13',\n",
    "        'กขไม่ไวแสง':'Varieties-14',\n",
    "        'สุพรรณบุรี 60-90':'Varieties-15',\n",
    "        'ราชการไม่ไวแสง':'Varieties-16',\n",
    "        'พิษณุโลก2 60-2':'Varieties-17',\n",
    "        'ชัยนาท 1-2':'Varieties-18',\n",
    "        'ปทุมธานี 1':'Varieties-19',\n",
    "        'สุพรรณบุรี 1':'Varieties-20'}, inplace = False)\n",
    "\n",
    "        locals()[name_locals] = dataset\n",
    "        # print(f'Dataframe name_station: {st+1 , name_input}')\n",
    "        print('wait......')\n",
    "        del dataset\n",
    "        clear_output(wait=True)\n",
    "\n",
    "    date_start = y_1 + '-01' + '-01'\n",
    "    date_stop = y_2 + '-12' + '-31'  \n",
    "\n",
    "    # new_colum_1 = ['mirid bug','mint','maxt','temp','dew','humidity','wspd','wdir','precip','Varieties-1','Varieties-2','Varieties-3','Varieties-4'\n",
    "    #               ,'Varieties-5','Varieties-6','Varieties-7','Varieties-8','Varieties-9','Varieties-10','Varieties-11','Varieties-12','Varieties-13'\n",
    "    #               ,'Varieties-14','Varieties-15','Varieties-16','Varieties-17','Varieties-18','Varieties-19','Varieties-20','bph']\n",
    "    # new_colum_2 = ['latitude','longitude','mirid bug','mint','maxt','temp','dew','humidity','wspd','wdir','precip','Varieties-1','Varieties-2','Varieties-3','Varieties-4'\n",
    "    #               ,'Varieties-5','Varieties-6','Varieties-7','Varieties-8','Varieties-9','Varieties-10','Varieties-11','Varieties-12','Varieties-13'\n",
    "    #               ,'Varieties-14','Varieties-15','Varieties-16','Varieties-17','Varieties-18','Varieties-19','Varieties-20','bph']\n",
    "#---------------------------------------------------------------------------------------------------------------------------------------------------#\n",
    "    if mode == 0:\n",
    "        file_name = df_st['nameEng'][st_BPH]\n",
    "        locals_input = 'stN_' + file_name\n",
    "        print(locals_input)\n",
    "        dataset_st=locals()[locals_input].loc[date_start:date_stop]   \n",
    "        frames_st = dataset_st\n",
    "    else:\n",
    "        m = 0\n",
    "        for j in range(len(st_num)):\n",
    "        # for j in range(df_st.shape[0]):\n",
    "            # file_name = df_st['nameEng'][j]\n",
    "            file_name = df_st['nameEng'][st_num[j]]\n",
    "            locals_input = 'stN_' + file_name\n",
    "            print(locals_input)\n",
    "            dataset_st=locals()[locals_input].loc[date_start:date_stop]\n",
    "            clear_output(wait=True)\n",
    "            if m == 0:\n",
    "                frames_st = dataset_st\n",
    "                m=m+1\n",
    "                print(m)\n",
    "            else:    \n",
    "                frames_st = [frames_st,dataset_st]\n",
    "                frames_st  = pd.concat(frames_st)\n",
    "#---------------------------------------------------------------------------------------------------------------------------------------------------#\n",
    "    # frames=frames_st[new_colum_2]\n",
    "    frames=frames_st\n",
    "    return frames"
   ]
  },
  {
   "cell_type": "code",
   "execution_count": 10,
   "id": "510bf63e",
   "metadata": {},
   "outputs": [],
   "source": [
    "def plot_data(frames_train,df_name):\n",
    "    #ตรวจสอบข้อมูล dataset \n",
    "    plt.figure()\n",
    "    df_plot = frames_train\n",
    "    df_plot.plot(lw=1,grid=True,figsize=(13,30),subplots=True)\n",
    "    plt.xlabel('Date time-'+ df_name)\n",
    "    plt.legend()\n",
    "    # plt.show()   \n"
   ]
  },
  {
   "cell_type": "code",
   "execution_count": 21,
   "id": "26d367a3",
   "metadata": {},
   "outputs": [
    {
     "name": "stdout",
     "output_type": "stream",
     "text": [
      "stN_Udon Thani Rice research Center\n"
     ]
    }
   ],
   "source": [
    "frames_train = creat_dataset(st,y_train_1,y_train_2,mode_st)\n",
    "values_train = frames_train.values    #ตัด header กับ idx ออก เป็น array matrix"
   ]
  },
  {
   "cell_type": "code",
   "execution_count": 23,
   "id": "b4158f90",
   "metadata": {},
   "outputs": [
    {
     "name": "stdout",
     "output_type": "stream",
     "text": [
      ".\\Import_Dataset\\file_data.csv 62084\n"
     ]
    }
   ],
   "source": [
    "#Output : file name and Path Save file\n",
    "path_adress_out = \".\\\\Import_Dataset\\\\\"\n",
    "file_name_save = 'file_data'\n",
    "dataset_path_save = path_adress_out + file_name_save + '.csv'\n",
    "frames_train.to_csv(dataset_path_save, index=False, encoding=\"TIS-620\")\n",
    "print(\"{} {}\" .format(dataset_path_save,len(frames_train)))\n",
    "\n"
   ]
  },
  {
   "cell_type": "markdown",
   "id": "360b39bf",
   "metadata": {},
   "source": [
    "### load data for AI  station  for train and validation"
   ]
  },
  {
   "cell_type": "code",
   "execution_count": null,
   "id": "aabfee0c",
   "metadata": {},
   "outputs": [],
   "source": [
    "frames_train = creat_dataset(st,y_train_1,y_train_2,mode_st)\n",
    "values_train = frames_train.values    #ตัด header กับ idx ออก เป็น array matrix\n",
    "\n",
    "frames_validation = creat_dataset(st,y_val_1,y_val_2,mode_st)\n",
    "values_validation = frames_validation.values    #ตัด header กับ idx ออก เป็น array matrix\n",
    "\n",
    "frames_predict = creat_dataset(st,y_pre_1,y_pre_2,mode_st)\n",
    "values_predict = frames_predict.values    #ตัด header กับ idx ออก เป็น array matrix\n",
    "\n",
    "n_features = frames_train.shape[1]\n",
    "\n",
    "if mode_st == 0:\n",
    "    file_name = df_st['nameEng'][st]\n",
    "else:\n",
    "    file_name = 'station_All'\n",
    "\n",
    "# //////////////////////////////////////////////////////////////// #\n",
    "# from matplotlib import pyplot as plt\n",
    "# plot_data(frames_train,file_name)\n",
    "# plot_data(frames_validation,file_name)\n",
    "# plot_data(frames_predict,file_name)\n",
    "\n",
    "\n",
    "\n",
    "#train data\n",
    "# ensure all data is float\n",
    "values = values_train.astype('float32')\n",
    "# normalize features\n",
    "scaler = MinMaxScaler(feature_range=(0, 1))\n",
    "scaled = scaler.fit_transform(values)\n",
    "\n",
    "# frame as supervised learning\n",
    "reframed = series_to_supervised(scaled, n_day, n_out)\n",
    "# print(reframed.shape)\n",
    "# print(reframed.head())\n",
    "\n",
    "# predict datasets\n",
    "values = reframed.values\n",
    "train = values\n",
    "\n",
    "#input \n",
    "n_obs = n_day * n_features\n",
    "# train_X, train_y = train[:, :n_obs], train[:, -n_features]\n",
    "train_X, train_y = train[:, :n_obs], train[:, -1]\n",
    "print(train_X.shape, len(train_X), train_y.shape)  #for train\n",
    "\n",
    "\n",
    "# reshape input to be 3D [samples, timesteps, features]\n",
    "train_X = train_X.reshape((train_X.shape[0], n_day, n_features))\n",
    "print(train_X.shape, train_y.shape)\n",
    "\n",
    "#validation data\n",
    "# ensure all data is float\n",
    "values = values_validation.astype('float32')\n",
    "# normalize features\n",
    "scaler = MinMaxScaler(feature_range=(0, 1))\n",
    "scaled = scaler.fit_transform(values)\n",
    "\n",
    "# frame as supervised learning\n",
    "reframed = series_to_supervised(scaled, n_day, n_out)\n",
    "\n",
    "# predict datasets\n",
    "values = reframed.values\n",
    "test = values\n",
    "\n",
    "#output \n",
    "n_obs = n_day * n_features\n",
    "# test_X, test_y = test[:, :n_obs], test[:, -n_features]\n",
    "test_X, test_y = test[:, :n_obs], test[:, -1]\n",
    "print(test_X.shape, len(test_X), test_y.shape)  #for train\n",
    "\n",
    "# reshape input to be 3D [samples, timesteps, features]\n",
    "test_X = test_X.reshape((test_X.shape[0], n_day, n_features))\n",
    "print(test_X.shape, test_y.shape)\n"
   ]
  },
  {
   "cell_type": "markdown",
   "id": "1866d5c2",
   "metadata": {},
   "source": [
    "# LSTM model"
   ]
  },
  {
   "cell_type": "code",
   "execution_count": null,
   "id": "aac9f883",
   "metadata": {},
   "outputs": [],
   "source": [
    "# Define a LSTM sequential model\n",
    "def create_model(model_funt=0):\n",
    "      if model_funt == 0:\n",
    "            model = tf.keras.models.Sequential([\n",
    "                  keras.layers.LSTM(512, input_shape=(train_X.shape[1], train_X.shape[2]), return_sequences=True),\n",
    "                  keras.layers.BatchNormalization(),\n",
    "                  keras.layers.Dropout(0.2),\n",
    "                  keras.layers.LSTM(512, return_sequences=True),\n",
    "                  keras.layers.BatchNormalization(),\n",
    "                  keras.layers.Dropout(0.2),\n",
    "                  keras.layers.LSTM(512, return_sequences=True),\n",
    "                  keras.layers.BatchNormalization(),\n",
    "                  keras.layers.Dropout(0.2),\n",
    "                  keras.layers.LSTM(512, return_sequences=True),\n",
    "                  keras.layers.BatchNormalization(),\n",
    "                  keras.layers.Dropout(0.2),\n",
    "                  keras.layers.LSTM(512, return_sequences=False),\n",
    "                  keras.layers.BatchNormalization(),\n",
    "                  keras.layers.Dropout(0.2),\n",
    "                  keras.layers.Dense(1)\n",
    "            ])\n",
    "      elif model_funt == 1:\n",
    "            model = tf.keras.models.Sequential([\n",
    "                  # Shape [batch, time, features] => [batch, time, lstm_units]\n",
    "                  keras.layers.LSTM(512, input_shape=(train_X.shape[1], train_X.shape[2]),return_sequences=True,activation='relu'),\n",
    "                  keras.layers.BatchNormalization(),\n",
    "                  keras.layers.Dropout(0.2),\n",
    "                  keras.layers.LSTM(256, return_sequences=True, activation='relu'),\n",
    "                  keras.layers.BatchNormalization(),\n",
    "                  keras.layers.Dropout(0.2),\n",
    "                  keras.layers.LSTM(256, activation='relu'),\n",
    "                  keras.layers.BatchNormalization(),\n",
    "                  keras.layers.Dropout(0.2),\n",
    "                  keras.layers.Dense(units=1)\n",
    "            ])\n",
    "      elif model_funt == 2:                                            \n",
    "            model = tf.keras.models.Sequential([\n",
    "                  # Shape [batch, time, features] => [batch, time, lstm_units]\n",
    "                  keras.layers.LSTM(100, input_shape=(train_X.shape[1], train_X.shape[2]),activation='relu'),\n",
    "                  keras.layers.Dense(units=1)\n",
    "            ])\n",
    "            \n",
    "      Optimizer = tf.keras.optimizers.Adam(0.0001)\n",
    "      model.compile(Optimizer, loss='mae', metrics=['accuracy'])\n",
    "      # model.summary()\n",
    "      return model  "
   ]
  },
  {
   "cell_type": "code",
   "execution_count": null,
   "id": "6e4d06da",
   "metadata": {},
   "outputs": [],
   "source": [
    "## Set Day and Time\n",
    "current_time = datetime.datetime.now() \n",
    "as_string = str(current_time)\n",
    "print(as_string[0:19])\n",
    "_date = as_string[0:10]\n",
    "_time = as_string [11:13] + '-' + as_string [14:16] + '-' + as_string [17:19]\n",
    "\n",
    "Export_folder_name = \"./Export_lstm_BPH/\"\n",
    "\n",
    "## Make folder\n",
    "newfolder_name = str(n_day)+\"_lag_\"+str(n_out)+\"-forecast\" # <<<<<<<<<<<<<<<<<<<<<<<<<<<<<<\n",
    "newfolder_name = \"d\"+str(_date)+\"_t\"+str(_time)+\"_\"+newfolder_name\n",
    "path_newfolder = Export_folder_name\n",
    "path_newfolder_save = os.path.join(path_newfolder, newfolder_name)\n",
    "try: \n",
    "    os.mkdir(path_newfolder_save) \n",
    "except OSError as error: \n",
    "    print(error)  \n",
    "print(\"Directory '% s' created\" % path_newfolder_save)\n",
    "Export_folder_name = path_newfolder_save + '/'"
   ]
  },
  {
   "cell_type": "code",
   "execution_count": null,
   "id": "32cf17c2",
   "metadata": {},
   "outputs": [],
   "source": [
    "# Save checkpoints during training\n",
    "dataset_path_1 = Export_folder_name+'lstm_ckpt'+'/'   \n",
    "checkpoint_path_1 = \"lstm_train_1/cp-{epoch:04d}.ckpt\"\n",
    "checkpoint_path_1 = dataset_path_1 + checkpoint_path_1\n",
    "checkpoint_dir_new = os.path.dirname(checkpoint_path_1)\n",
    "print(checkpoint_dir_new)\n",
    "dataset_path_2 = \"./Export_lstm_BPH/\" + \"last_checkpoints/\" +'lstm_ckpt'+'/' \n",
    "checkpoint_path_2 = \"lstm_train_1/cp-{epoch:04d}.ckpt\"\n",
    "checkpoint_path_2 = dataset_path_2 + checkpoint_path_2\n",
    "checkpoint_dir_old = os.path.dirname(checkpoint_path_2)\n",
    "print(checkpoint_dir_old)\n",
    "\n",
    "\n",
    "\n",
    "if trainning_mode == \"newtrain\":\n",
    "  \n",
    "    # Create a basic model instance\n",
    "    model = create_model(model_test)\n",
    "    # Display the model's architecture\n",
    "    model.summary()\n",
    "\n",
    "if trainning_mode == \"retrain\":    \n",
    "    latest = tf.train.latest_checkpoint(checkpoint_dir_old)\n",
    "    print(latest)\n",
    "    # Create a new model instance\n",
    "    model = create_model(model_test)\n",
    "    # Load the previously saved weights\n",
    "    model.load_weights(latest)\n",
    "    # Display the model's architecture\n",
    "    model.summary()"
   ]
  },
  {
   "cell_type": "markdown",
   "id": "cc72a441",
   "metadata": {},
   "source": [
    "# Fit model"
   ]
  },
  {
   "cell_type": "code",
   "execution_count": null,
   "id": "ea383ee3",
   "metadata": {},
   "outputs": [],
   "source": [
    "batch_size = 128\n",
    "\n",
    "patience_value = int(Epochs*0.1)\n",
    "es_callback = tf.keras.callbacks.EarlyStopping(monitor=\"val_loss\", min_delta=0, patience=patience_value)\n",
    "\n",
    "# Create a callback that saves the model's weights every 5 epochs\n",
    "cp_callback = tf.keras.callbacks.ModelCheckpoint(\n",
    "    filepath=checkpoint_path_1,\n",
    "    verbose=1, \n",
    "    save_weights_only=True,\n",
    "    save_freq=\"epoch\",\n",
    "    period=100\n",
    "    )\n",
    "\n",
    "\n",
    "# Save the weights using the `checkpoint_path` format\n",
    "model.save_weights(checkpoint_path_1.format(epoch=0))\n",
    "\n",
    "# fit network\n",
    "# Epochs = 5000\n",
    "history = model.fit(train_X, train_y, \n",
    "                    epochs=Epochs, \n",
    "                    batch_size=batch_size, \n",
    "                    validation_data=(test_X, test_y), \n",
    "                    verbose=2, \n",
    "                    # callbacks=[cp_callback,es_callback], \n",
    "                    callbacks=[cp_callback],\n",
    "                    shuffle=False)\n",
    "\n",
    "# save history\n",
    "history_name = \"lstm_tr1_hist1.npy\"\n",
    "history_file = dataset_path_1 + history_name\n",
    "np.save(history_file,history.history)"
   ]
  },
  {
   "cell_type": "code",
   "execution_count": null,
   "id": "e08c712a",
   "metadata": {},
   "outputs": [],
   "source": [
    "# Load the previously saved weights\n",
    "latest = tf.train.latest_checkpoint(checkpoint_dir_old)\n",
    "print(latest)\n",
    "model.load_weights(latest)"
   ]
  },
  {
   "cell_type": "code",
   "execution_count": null,
   "id": "fe4b6048",
   "metadata": {},
   "outputs": [],
   "source": [
    "latest = tf.train.latest_checkpoint(checkpoint_dir_new)\n",
    "print(latest)\n",
    "model.load_weights(latest)"
   ]
  },
  {
   "cell_type": "code",
   "execution_count": null,
   "id": "6af03927",
   "metadata": {},
   "outputs": [],
   "source": [
    "# load history\n",
    "history=np.load(history_file,allow_pickle='TRUE').item()"
   ]
  },
  {
   "cell_type": "code",
   "execution_count": null,
   "id": "d0368f56",
   "metadata": {},
   "outputs": [],
   "source": [
    "# evaluate the model\n",
    "loss, acc = model.evaluate(test_X, test_y, verbose=2)\n",
    "var_loss = round(loss,5)\n",
    "print('Accuracy : ', acc)\n",
    "print('var_loss is : ', var_loss)"
   ]
  },
  {
   "cell_type": "markdown",
   "id": "c76a0858",
   "metadata": {},
   "source": [
    "# Save model"
   ]
  },
  {
   "cell_type": "code",
   "execution_count": null,
   "id": "dfa752f6",
   "metadata": {},
   "outputs": [],
   "source": [
    "# performance loss\n",
    "perf_loss  = round(history['loss'][-1], 5)\n",
    "print('loss is : ', perf_loss)"
   ]
  },
  {
   "cell_type": "code",
   "execution_count": null,
   "id": "00826af0",
   "metadata": {},
   "outputs": [],
   "source": [
    "## Save model\n",
    "pre_name = \"_d\"+str(_date)+\"_t\"+str(_time)+\"_loss_\"+str(perf_loss)\n",
    "\n",
    "# Export_folder_name = Export_folder_name\n",
    "file_name = \"model_lstm\"+pre_name\n",
    "# import time\n",
    "# tic_lm = time.perf_counter()\n",
    "\n",
    "export_folder = Export_folder_name\n",
    "model_name = export_folder + file_name\n",
    "model.save(model_name)\n",
    "\n",
    "# toc_lm = time.perf_counter()\n",
    "# print(\"\\n\",f\"Time to save Model is {toc_lm - tic_lm:0.4f} seconds\")"
   ]
  },
  {
   "cell_type": "code",
   "execution_count": null,
   "id": "72d0f0bf",
   "metadata": {},
   "outputs": [],
   "source": [
    "## save model.summary() to .txt\n",
    "from contextlib import redirect_stdout\n",
    "export_folder = path_newfolder_save + '/'\n",
    "save_txt = export_folder+'00_Model_Summary_'+pre_name+'.txt'\n",
    "with open(save_txt, 'w') as f:\n",
    "    with redirect_stdout(f):\n",
    "        model.summary()"
   ]
  },
  {
   "cell_type": "code",
   "execution_count": null,
   "id": "071ef3d0",
   "metadata": {},
   "outputs": [],
   "source": [
    "export_folder = Export_folder_name\n",
    "plot_name = 'plot_histloss'+pre_name+'.png'\n",
    "# plot history\n",
    "from matplotlib import pyplot as plt\n",
    "def plot_loss(history):\n",
    "    plt.figure()\n",
    "    plt.plot(history['loss'], label='train')\n",
    "    plt.plot(history['val_loss'], label='val')\n",
    "    plt.xlabel('Epoch')\n",
    "    plt.ylabel('Error')\n",
    "    plt.legend()\n",
    "    plt.grid(True)\n",
    "#     plt.show()\n",
    "plot_loss(history)\n",
    "plt.savefig(export_folder + plot_name)"
   ]
  },
  {
   "cell_type": "code",
   "execution_count": null,
   "id": "4cd011c5",
   "metadata": {},
   "outputs": [],
   "source": [
    "export_folder = Export_folder_name\n",
    "plot_name = 'plot_histacc'+pre_name+'.png'\n",
    "# plot history\n",
    "from matplotlib import pyplot as plt\n",
    "def plot_loss(history):\n",
    "    plt.figure()\n",
    "    plt.plot(history['accuracy'], label='train')\n",
    "    plt.plot(history['val_accuracy'], label='val_accuracy')\n",
    "    plt.xlabel('Epoch')\n",
    "    plt.ylabel('Error')\n",
    "    plt.legend()\n",
    "    plt.grid(True)\n",
    "#     plt.show()\n",
    "plot_loss(history)\n",
    "plt.savefig(export_folder + plot_name)"
   ]
  },
  {
   "cell_type": "code",
   "execution_count": null,
   "id": "6dda0940",
   "metadata": {},
   "outputs": [],
   "source": [
    "## save discription training data\n",
    "\n",
    "txt_name = '00_Training_model_data_discription.txt'\n",
    "filepath_save_txt = path_newfolder_save + \"\\\\\" + txt_name\n",
    "f = open(filepath_save_txt, \"a\")\n",
    "f.write(file_name)\n",
    "f.write('\\n\\n')\n",
    "lines_2 = ['loss :',str(perf_loss)]\n",
    "f.write('\\t'.join(lines_2))\n",
    "f.write('\\n')\n",
    "lines_3 = ['var_loss :',str(var_loss)]\n",
    "f.write('\\t'.join(lines_3))\n",
    "f.write('\\n')\n",
    "lines_4 = ['accuracy :',str(acc)]\n",
    "f.write('\\t'.join(lines_4))\n",
    "f.write('\\n')\n",
    "lines_5 = ['num_features :',str(n_features)]\n",
    "f.write('\\t'.join(lines_5))\n",
    "f.write('\\n')\n",
    "lines_6 = ['train_year :',y_train_1,'-',y_train_2]\n",
    "f.write('\\t'.join(lines_6))\n",
    "f.write('\\n')\n",
    "lines_7 = ['time_lag :',str(n_day)]\n",
    "f.write('\\t'.join(lines_7))\n",
    "f.write('\\n')\n",
    "lines_8 = ['time_forecast :',str(n_out)]\n",
    "f.write('\\t'.join(lines_8))\n",
    "f.write('\\n')\n",
    "lines_9 = ['Program :','Time Series Forecasting for BPH with LSTMs - train mae-adam-data_Allst ']  \n",
    "f.write('\\t'.join(lines_9))\n",
    "f.write('\\n')\n",
    "lines_10 = ['model_funt :',str(model_test)]  \n",
    "f.write('\\t'.join(lines_10))\n",
    "f.write('\\n')\n",
    "lines_11 = ['Epochs :',str(Epochs)]  \n",
    "f.write('\\t'.join(lines_11))    \n",
    "f.write('\\n')\n",
    "lines_12 = ['Activation :','relu']  \n",
    "f.write('\\t'.join(lines_12))    \n",
    "f.write('\\n')\n",
    "f.close()"
   ]
  },
  {
   "cell_type": "markdown",
   "id": "c23f7031",
   "metadata": {},
   "source": [
    "### Performance"
   ]
  },
  {
   "cell_type": "code",
   "execution_count": null,
   "id": "75b2a631",
   "metadata": {},
   "outputs": [],
   "source": [
    "\n",
    "df = frames_predict.reset_index()\n",
    "date_time_predict = pd.to_datetime(df.pop('date'))"
   ]
  },
  {
   "cell_type": "code",
   "execution_count": null,
   "id": "24438acf",
   "metadata": {},
   "outputs": [],
   "source": [
    "# ensure all data is float\n",
    "values = values_predict.astype('float32')\n",
    "# normalize features\n",
    "scaler = MinMaxScaler(feature_range=(0, 1))\n",
    "scaled = scaler.fit_transform(values)\n",
    "    \n",
    "# frame as supervised learning\n",
    "reframed = series_to_supervised(scaled, n_day, n_out)\n",
    "# print(reframed.shape)\n",
    "# print(reframed.head())\n",
    "    \n",
    "# predict datasets\n",
    "values = reframed.values\n",
    "# n_train_day = int(values.shape[0]*0.9)\n",
    "# train = values[:n_train_day, :]\n",
    "test = values\n",
    "    \n",
    "# predict into input and outputs\n",
    "n_obs = n_day * n_features\n",
    "# test_X, test_y = test[:, :n_obs], test[:, -n_features]\n",
    "test_X, test_y = test[:, :n_obs], test[:, -1]\n",
    "print(test_X.shape, len(test_X), test_y.shape)\n",
    "    \n",
    "# reshape input to be 3D [samples, timesteps, features]\n",
    "test_X = test_X.reshape((test_X.shape[0], n_day, n_features))\n",
    "print(test_X.shape, test_y.shape)"
   ]
  },
  {
   "cell_type": "code",
   "execution_count": null,
   "id": "ad5e7571",
   "metadata": {},
   "outputs": [],
   "source": [
    "# ensure all data is float\n",
    "values = values_predict.astype('float32')\n",
    "# normalize features\n",
    "scaler = MinMaxScaler(feature_range=(0, 1))\n",
    "scaled = scaler.fit_transform(values)\n",
    "    \n",
    "# frame as supervised learning\n",
    "reframed = series_to_supervised(scaled, n_day, n_out)\n",
    "# print(reframed.shape)\n",
    "# print(reframed.head())\n",
    "    \n",
    "# predict datasets\n",
    "values = reframed.values\n",
    "# n_train_day = int(values.shape[0]*0.9)\n",
    "# train = values[:n_train_day, :]\n",
    "test = values\n",
    "    \n",
    "# predict into input and outputs\n",
    "n_obs = n_day * n_features\n",
    "# test_X, test_y = test[:, :n_obs], test[:, -n_features]\n",
    "test_X, test_y = test[:, :n_obs], test[:, -1]\n",
    "print(test_X.shape, len(test_X), test_y.shape)\n",
    "    \n",
    "# reshape input to be 3D [samples, timesteps, features]\n",
    "test_X = test_X.reshape((test_X.shape[0], n_day, n_features))\n",
    "print(test_X.shape, test_y.shape)\n",
    "    \n",
    "# # make a prediction\n",
    "yhat = model.predict(test_X)\n",
    "test_X_reshape = test_X.reshape((test_X.shape[0], n_day*n_features))\n",
    "    \n",
    "# invert scaling for forecast\n",
    "# inv_yhat = concatenate((yhat, test_X[:, -29:]), axis=1)\n",
    "inv_yhat = concatenate((test_X_reshape[:, :(n_features-1)], yhat), axis=1)\n",
    "inv_yhat = scaler.inverse_transform(inv_yhat)\n",
    "inv_yhat = inv_yhat[:,-1]\n",
    "\n",
    "# invert scaling for actual\n",
    "test_y_reshape = test_y.reshape((len(test_y), 1))\n",
    "# inv_y = concatenate((test_y, test_X[:, -29:]), axis=1)\n",
    "inv_y = concatenate((test_X_reshape[:, :(n_features-1)], test_y_reshape), axis=1)\n",
    "inv_y = scaler.inverse_transform(inv_y)\n",
    "inv_y = inv_y[:,-1]\n",
    "# calculate RMSE\n",
    "rmse = sqrt(mean_squared_error(inv_y, inv_yhat))\n",
    "print('Test RMSE: %.3f' % rmse)\n",
    "    \n"
   ]
  },
  {
   "cell_type": "code",
   "execution_count": null,
   "id": "814faba7",
   "metadata": {},
   "outputs": [],
   "source": [
    "export_folder = Export_folder_name\n",
    "plot_name = 'Performance'+pre_name+'.png'\n",
    "# plot history\n",
    "from matplotlib import pyplot as plt\n",
    "def plot_Perfor(history):\n",
    "    plt.figure()\n",
    "    plt.plot(date_time_predict[n_day+n_out-1:],inv_y[:],label='data test')\n",
    "    plt.plot(date_time_predict[n_day+n_out-1:],inv_yhat[:],label='prediction')\n",
    " \n",
    "    plt.ylabel('BPH volume')\n",
    "    plt.xlabel('Datetime')\n",
    "    plt.title(file_name +'  Test RMSE: %.3f' % rmse)\n",
    "    plt.legend()\n",
    "    plt.grid(True)\n",
    "#     plt.show()\n",
    "plot_Perfor(history)\n",
    "plt.savefig(export_folder + plot_name)\n"
   ]
  }
 ],
 "metadata": {
  "kernelspec": {
   "display_name": "Python 3.8.0 ('tf_2.4_ts')",
   "language": "python",
   "name": "python3"
  },
  "language_info": {
   "codemirror_mode": {
    "name": "ipython",
    "version": 3
   },
   "file_extension": ".py",
   "mimetype": "text/x-python",
   "name": "python",
   "nbconvert_exporter": "python",
   "pygments_lexer": "ipython3",
   "version": "3.8.0"
  },
  "vscode": {
   "interpreter": {
    "hash": "bcdeb12b9765c5f0be135c78098b34d39651f762d518870df951bed52914d1c9"
   }
  }
 },
 "nbformat": 4,
 "nbformat_minor": 5
}
